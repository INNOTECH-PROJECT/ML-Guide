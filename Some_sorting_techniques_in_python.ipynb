#bubble_sort
def bubbleSort(arr):
    n = len(arr)
    for i in range(n):
        for j in range(0, n-i-1):
            if arr[j] > arr[j+1]:
               arr[j], arr[j+1] = arr[j+1], arr[j]

if __name__ == "__main__":
  arr = [64, 34, 25, 12, 22, 11, 90]
  bubbleSort(arr)
  print("Sorted array is:")
  for i in range(len(arr)):
      print("%d" % arr[i], end=" ")

#Selection_sort
import sys
A = [64, 25, 12, 22, 11]
for i in range(len(A))
    min_idx = i
    for j in range(i+1, len(A)):
        if A[min_idx] > A[j]:
            min_idx = j
    A[i], A[min_idx] = A[min_idx], A[i]

print ("Sorted array")
for i in range(len(A)):
    print("%d" %A[i],end=" ") 
